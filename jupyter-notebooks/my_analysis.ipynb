{
 "cells": [
  {
   "cell_type": "markdown",
   "metadata": {},
   "source": [
    "# This is just an assignment\n",
    "\n",
    "Name: Jarvis Yuan \\\n",
    "Dataset: [Electric Vehicle Charging Stations](https://www.kaggle.com/prasertk/electric-vehicle-charging-stations-in-usa/code)"
   ]
  },
  {
   "cell_type": "code",
   "execution_count": 36,
   "metadata": {},
   "outputs": [],
   "source": [
    "import numpy as np\n",
    "import pandas as pd\n",
    "import matplotlib.pyplot as plt\n",
    "import math\n",
    "from math import isnan"
   ]
  },
  {
   "cell_type": "code",
   "execution_count": 47,
   "metadata": {},
   "outputs": [],
   "source": [
    "ev_df = pd.read_csv('../data/ev_stations_v1.csv')"
   ]
  },
  {
   "cell_type": "code",
   "execution_count": 48,
   "metadata": {},
   "outputs": [
    {
     "data": {
      "text/html": [
       "<div>\n",
       "<style scoped>\n",
       "    .dataframe tbody tr th:only-of-type {\n",
       "        vertical-align: middle;\n",
       "    }\n",
       "\n",
       "    .dataframe tbody tr th {\n",
       "        vertical-align: top;\n",
       "    }\n",
       "\n",
       "    .dataframe thead th {\n",
       "        text-align: right;\n",
       "    }\n",
       "</style>\n",
       "<table border=\"1\" class=\"dataframe\">\n",
       "  <thead>\n",
       "    <tr style=\"text-align: right;\">\n",
       "      <th></th>\n",
       "      <th>Fuel Type Code</th>\n",
       "      <th>Station Name</th>\n",
       "      <th>Street Address</th>\n",
       "      <th>Intersection Directions</th>\n",
       "      <th>City</th>\n",
       "      <th>State</th>\n",
       "      <th>ZIP</th>\n",
       "      <th>Plus4</th>\n",
       "      <th>Station Phone</th>\n",
       "      <th>Status Code</th>\n",
       "      <th>...</th>\n",
       "      <th>EV Pricing (French)</th>\n",
       "      <th>LPG Nozzle Types</th>\n",
       "      <th>Hydrogen Pressures</th>\n",
       "      <th>Hydrogen Standards</th>\n",
       "      <th>CNG Fill Type Code</th>\n",
       "      <th>CNG PSI</th>\n",
       "      <th>CNG Vehicle Class</th>\n",
       "      <th>LNG Vehicle Class</th>\n",
       "      <th>EV On-Site Renewable Source</th>\n",
       "      <th>Restricted Access</th>\n",
       "    </tr>\n",
       "  </thead>\n",
       "  <tbody>\n",
       "    <tr>\n",
       "      <th>0</th>\n",
       "      <td>ELEC</td>\n",
       "      <td>LADWP - Truesdale Center</td>\n",
       "      <td>11797 Truesdale St</td>\n",
       "      <td>NaN</td>\n",
       "      <td>Sun Valley</td>\n",
       "      <td>CA</td>\n",
       "      <td>91352</td>\n",
       "      <td>NaN</td>\n",
       "      <td>NaN</td>\n",
       "      <td>E</td>\n",
       "      <td>...</td>\n",
       "      <td>NaN</td>\n",
       "      <td>NaN</td>\n",
       "      <td>NaN</td>\n",
       "      <td>NaN</td>\n",
       "      <td>NaN</td>\n",
       "      <td>NaN</td>\n",
       "      <td>NaN</td>\n",
       "      <td>NaN</td>\n",
       "      <td>NaN</td>\n",
       "      <td>NaN</td>\n",
       "    </tr>\n",
       "    <tr>\n",
       "      <th>1</th>\n",
       "      <td>ELEC</td>\n",
       "      <td>LADWP - West LA District Office</td>\n",
       "      <td>1394 S Sepulveda Blvd</td>\n",
       "      <td>NaN</td>\n",
       "      <td>Los Angeles</td>\n",
       "      <td>CA</td>\n",
       "      <td>90024</td>\n",
       "      <td>NaN</td>\n",
       "      <td>NaN</td>\n",
       "      <td>E</td>\n",
       "      <td>...</td>\n",
       "      <td>NaN</td>\n",
       "      <td>NaN</td>\n",
       "      <td>NaN</td>\n",
       "      <td>NaN</td>\n",
       "      <td>NaN</td>\n",
       "      <td>NaN</td>\n",
       "      <td>NaN</td>\n",
       "      <td>NaN</td>\n",
       "      <td>NaN</td>\n",
       "      <td>NaN</td>\n",
       "    </tr>\n",
       "    <tr>\n",
       "      <th>2</th>\n",
       "      <td>ELEC</td>\n",
       "      <td>Los Angeles Convention Center</td>\n",
       "      <td>1201 S Figueroa St</td>\n",
       "      <td>West hall and South hall</td>\n",
       "      <td>Los Angeles</td>\n",
       "      <td>CA</td>\n",
       "      <td>90015</td>\n",
       "      <td>NaN</td>\n",
       "      <td>213-741-1151</td>\n",
       "      <td>E</td>\n",
       "      <td>...</td>\n",
       "      <td>NaN</td>\n",
       "      <td>NaN</td>\n",
       "      <td>NaN</td>\n",
       "      <td>NaN</td>\n",
       "      <td>NaN</td>\n",
       "      <td>NaN</td>\n",
       "      <td>NaN</td>\n",
       "      <td>NaN</td>\n",
       "      <td>NaN</td>\n",
       "      <td>NaN</td>\n",
       "    </tr>\n",
       "    <tr>\n",
       "      <th>3</th>\n",
       "      <td>ELEC</td>\n",
       "      <td>LADWP - John Ferraro Building</td>\n",
       "      <td>111 N Hope St</td>\n",
       "      <td>Across Hope</td>\n",
       "      <td>Los Angeles</td>\n",
       "      <td>CA</td>\n",
       "      <td>90012</td>\n",
       "      <td>NaN</td>\n",
       "      <td>NaN</td>\n",
       "      <td>E</td>\n",
       "      <td>...</td>\n",
       "      <td>NaN</td>\n",
       "      <td>NaN</td>\n",
       "      <td>NaN</td>\n",
       "      <td>NaN</td>\n",
       "      <td>NaN</td>\n",
       "      <td>NaN</td>\n",
       "      <td>NaN</td>\n",
       "      <td>NaN</td>\n",
       "      <td>NaN</td>\n",
       "      <td>NaN</td>\n",
       "    </tr>\n",
       "    <tr>\n",
       "      <th>4</th>\n",
       "      <td>ELEC</td>\n",
       "      <td>LADWP - Haynes Power Plant</td>\n",
       "      <td>6801 E 2nd St</td>\n",
       "      <td>NaN</td>\n",
       "      <td>Long Beach</td>\n",
       "      <td>CA</td>\n",
       "      <td>90803</td>\n",
       "      <td>NaN</td>\n",
       "      <td>NaN</td>\n",
       "      <td>E</td>\n",
       "      <td>...</td>\n",
       "      <td>NaN</td>\n",
       "      <td>NaN</td>\n",
       "      <td>NaN</td>\n",
       "      <td>NaN</td>\n",
       "      <td>NaN</td>\n",
       "      <td>NaN</td>\n",
       "      <td>NaN</td>\n",
       "      <td>NaN</td>\n",
       "      <td>NaN</td>\n",
       "      <td>NaN</td>\n",
       "    </tr>\n",
       "  </tbody>\n",
       "</table>\n",
       "<p>5 rows × 65 columns</p>\n",
       "</div>"
      ],
      "text/plain": [
       "  Fuel Type Code                     Station Name         Street Address  \\\n",
       "0           ELEC         LADWP - Truesdale Center     11797 Truesdale St   \n",
       "1           ELEC  LADWP - West LA District Office  1394 S Sepulveda Blvd   \n",
       "2           ELEC    Los Angeles Convention Center     1201 S Figueroa St   \n",
       "3           ELEC    LADWP - John Ferraro Building          111 N Hope St   \n",
       "4           ELEC       LADWP - Haynes Power Plant          6801 E 2nd St   \n",
       "\n",
       "    Intersection Directions         City State    ZIP  Plus4 Station Phone  \\\n",
       "0                       NaN   Sun Valley    CA  91352    NaN           NaN   \n",
       "1                       NaN  Los Angeles    CA  90024    NaN           NaN   \n",
       "2  West hall and South hall  Los Angeles    CA  90015    NaN  213-741-1151   \n",
       "3               Across Hope  Los Angeles    CA  90012    NaN           NaN   \n",
       "4                       NaN   Long Beach    CA  90803    NaN           NaN   \n",
       "\n",
       "  Status Code  ... EV Pricing (French) LPG Nozzle Types Hydrogen Pressures  \\\n",
       "0           E  ...                 NaN              NaN                NaN   \n",
       "1           E  ...                 NaN              NaN                NaN   \n",
       "2           E  ...                 NaN              NaN                NaN   \n",
       "3           E  ...                 NaN              NaN                NaN   \n",
       "4           E  ...                 NaN              NaN                NaN   \n",
       "\n",
       "  Hydrogen Standards  CNG Fill Type Code  CNG PSI  CNG Vehicle Class  \\\n",
       "0                NaN                 NaN      NaN                NaN   \n",
       "1                NaN                 NaN      NaN                NaN   \n",
       "2                NaN                 NaN      NaN                NaN   \n",
       "3                NaN                 NaN      NaN                NaN   \n",
       "4                NaN                 NaN      NaN                NaN   \n",
       "\n",
       "   LNG Vehicle Class  EV On-Site Renewable Source  Restricted Access  \n",
       "0                NaN                          NaN                NaN  \n",
       "1                NaN                          NaN                NaN  \n",
       "2                NaN                          NaN                NaN  \n",
       "3                NaN                          NaN                NaN  \n",
       "4                NaN                          NaN                NaN  \n",
       "\n",
       "[5 rows x 65 columns]"
      ]
     },
     "execution_count": 48,
     "metadata": {},
     "output_type": "execute_result"
    }
   ],
   "source": [
    "ev_df.head()"
   ]
  },
  {
   "cell_type": "code",
   "execution_count": 49,
   "metadata": {},
   "outputs": [
    {
     "data": {
      "text/plain": [
       "Index(['Fuel Type Code', 'Station Name', 'Street Address',\n",
       "       'Intersection Directions', 'City', 'State', 'ZIP', 'Plus4',\n",
       "       'Station Phone', 'Status Code', 'Expected Date',\n",
       "       'Groups With Access Code', 'Access Days Time', 'Cards Accepted',\n",
       "       'BD Blends', 'NG Fill Type Code', 'NG PSI', 'EV Level1 EVSE Num',\n",
       "       'EV Level2 EVSE Num', 'EV DC Fast Count', 'EV Other Info', 'EV Network',\n",
       "       'EV Network Web', 'Geocode Status', 'Latitude', 'Longitude',\n",
       "       'Date Last Confirmed', 'ID', 'Updated At', 'Owner Type Code',\n",
       "       'Federal Agency ID', 'Federal Agency Name', 'Open Date',\n",
       "       'Hydrogen Status Link', 'NG Vehicle Class', 'LPG Primary',\n",
       "       'E85 Blender Pump', 'EV Connector Types', 'Country',\n",
       "       'Intersection Directions (French)', 'Access Days Time (French)',\n",
       "       'BD Blends (French)', 'Groups With Access Code (French)',\n",
       "       'Hydrogen Is Retail', 'Access Code', 'Access Detail Code',\n",
       "       'Federal Agency Code', 'Facility Type', 'CNG Dispenser Num',\n",
       "       'CNG On-Site Renewable Source', 'CNG Total Compression Capacity',\n",
       "       'CNG Storage Capacity', 'LNG On-Site Renewable Source',\n",
       "       'E85 Other Ethanol Blends', 'EV Pricing', 'EV Pricing (French)',\n",
       "       'LPG Nozzle Types', 'Hydrogen Pressures', 'Hydrogen Standards',\n",
       "       'CNG Fill Type Code', 'CNG PSI', 'CNG Vehicle Class',\n",
       "       'LNG Vehicle Class', 'EV On-Site Renewable Source',\n",
       "       'Restricted Access'],\n",
       "      dtype='object')"
      ]
     },
     "execution_count": 49,
     "metadata": {},
     "output_type": "execute_result"
    }
   ],
   "source": [
    "ev_df.columns"
   ]
  },
  {
   "cell_type": "code",
   "execution_count": 57,
   "metadata": {},
   "outputs": [
    {
     "data": {
      "text/plain": [
       "0              Non-Networked\n",
       "1              Non-Networked\n",
       "2              Non-Networked\n",
       "3              Non-Networked\n",
       "4              Non-Networked\n",
       "                ...         \n",
       "50284    ChargePoint Network\n",
       "50285           eVgo Network\n",
       "50286              Greenlots\n",
       "50287              Greenlots\n",
       "50288      Electrify America\n",
       "Name: EV Network, Length: 50284, dtype: object"
      ]
     },
     "execution_count": 57,
     "metadata": {},
     "output_type": "execute_result"
    }
   ],
   "source": [
    "ev_df = ev_df[ev_df['EV Network'].notna()]\n",
    "ev_df['EV Network']"
   ]
  },
  {
   "cell_type": "code",
   "execution_count": 58,
   "metadata": {},
   "outputs": [
    {
     "data": {
      "text/plain": [
       "count                   50284\n",
       "unique                     24\n",
       "top       ChargePoint Network\n",
       "freq                    27285\n",
       "Name: EV Network, dtype: object"
      ]
     },
     "execution_count": 58,
     "metadata": {},
     "output_type": "execute_result"
    }
   ],
   "source": [
    "ev_df['EV Network'].describe()"
   ]
  },
  {
   "cell_type": "code",
   "execution_count": 59,
   "metadata": {},
   "outputs": [
    {
     "data": {
      "text/plain": [
       "array(['Non-Networked', 'Volta', 'EV Connect', 'ChargePoint Network',\n",
       "       'OpConnect', 'SemaCharge Network', 'Tesla Destination',\n",
       "       'Greenlots', 'EVGATEWAY', 'POWERFLEX', 'eVgo Network', 'Webasto',\n",
       "       'CHARGELAB', 'AMPUP', 'EVCS', 'Blink Network', 'FCN', 'Tesla',\n",
       "       'Electrify America', 'FLO', 'FPLEV', 'ZEFNET', 'LIVINGSTON',\n",
       "       'Electrify Canada'], dtype=object)"
      ]
     },
     "execution_count": 59,
     "metadata": {},
     "output_type": "execute_result"
    }
   ],
   "source": [
    "ev_df['EV Network'].unique()"
   ]
  },
  {
   "cell_type": "code",
   "execution_count": 62,
   "metadata": {},
   "outputs": [],
   "source": [
    "freq_dict = {}\n",
    "\n",
    "for i in ev_df['EV Network']:\n",
    "    freq_dict[i] = freq_dict.get(i, 0) + 1"
   ]
  },
  {
   "cell_type": "code",
   "execution_count": 63,
   "metadata": {},
   "outputs": [
    {
     "data": {
      "text/plain": [
       "{'Non-Networked': 8480,\n",
       " 'Volta': 929,\n",
       " 'EV Connect': 896,\n",
       " 'ChargePoint Network': 27285,\n",
       " 'OpConnect': 150,\n",
       " 'SemaCharge Network': 1932,\n",
       " 'Tesla Destination': 4437,\n",
       " 'Greenlots': 1036,\n",
       " 'EVGATEWAY': 31,\n",
       " 'POWERFLEX': 71,\n",
       " 'eVgo Network': 883,\n",
       " 'Webasto': 61,\n",
       " 'CHARGELAB': 4,\n",
       " 'AMPUP': 45,\n",
       " 'EVCS': 46,\n",
       " 'Blink Network': 1576,\n",
       " 'FCN': 118,\n",
       " 'Tesla': 1249,\n",
       " 'Electrify America': 738,\n",
       " 'FLO': 262,\n",
       " 'FPLEV': 3,\n",
       " 'ZEFNET': 4,\n",
       " 'LIVINGSTON': 47,\n",
       " 'Electrify Canada': 1}"
      ]
     },
     "execution_count": 63,
     "metadata": {},
     "output_type": "execute_result"
    }
   ],
   "source": [
    "freq_dict"
   ]
  },
  {
   "cell_type": "code",
   "execution_count": 71,
   "metadata": {},
   "outputs": [
    {
     "data": {
      "image/png": "[encoded data removed]",
      "text/plain": [
       "<Figure size 720x360 with 1 Axes>"
      ]
     },
     "metadata": {
      "needs_background": "light"
     },
     "output_type": "display_data"
    }
   ],
   "source": [
    "fig = plt.figure(figsize = (10, 5))\n",
    "plt.bar(freq_dict.keys(), freq_dict.values(), width = 0.7)\n",
    "plt.xticks(rotation='vertical');"
   ]
  },
  {
   "cell_type": "markdown",
   "metadata": {},
   "source": [
    "wow, ChargePoint Network has the largest number of charging points in the US by a big margin, I was expecting Tesla.."
   ]
  },
  {
   "cell_type": "code",
   "execution_count": null,
   "metadata": {},
   "outputs": [],
   "source": []
  }
 ],
 "metadata": {
  "kernelspec": {
   "display_name": "Python 3",
   "language": "python",
   "name": "python3"
  },
  "language_info": {
   "codemirror_mode": {
    "name": "ipython",
    "version": 3
   },
   "file_extension": ".py",
   "mimetype": "text/x-python",
   "name": "python",
   "nbconvert_exporter": "python",
   "pygments_lexer": "ipython3",
   "version": "3.7.6"
  }
 },
 "nbformat": 4,
 "nbformat_minor": 4
}
